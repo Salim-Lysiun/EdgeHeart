{
  "cells": [
    {
      "cell_type": "code",
      "execution_count": 2,
      "metadata": {
        "colab": {
          "base_uri": "https://localhost:8080/"
        },
        "id": "dsOVzli77FSZ",
        "outputId": "b2893962-25d8-4c75-cfae-5d6bd92b606e"
      },
      "outputs": [
        {
          "output_type": "stream",
          "name": "stdout",
          "text": [
            "Requirement already satisfied: tensorflow-model-optimization in /usr/local/lib/python3.10/dist-packages (0.8.0)\n",
            "Requirement already satisfied: absl-py~=1.2 in /usr/local/lib/python3.10/dist-packages (from tensorflow-model-optimization) (1.4.0)\n",
            "Requirement already satisfied: dm-tree~=0.1.1 in /usr/local/lib/python3.10/dist-packages (from tensorflow-model-optimization) (0.1.8)\n",
            "Requirement already satisfied: numpy~=1.23 in /usr/local/lib/python3.10/dist-packages (from tensorflow-model-optimization) (1.25.2)\n",
            "Requirement already satisfied: six~=1.14 in /usr/local/lib/python3.10/dist-packages (from tensorflow-model-optimization) (1.16.0)\n"
          ]
        }
      ],
      "source": [
        "!pip install tensorflow-model-optimization"
      ]
    },
    {
      "cell_type": "code",
      "execution_count": 3,
      "metadata": {
        "id": "39X8xn6KYqJy"
      },
      "outputs": [],
      "source": [
        "import pandas as pd\n",
        "import matplotlib.pyplot as plt\n",
        "import matplotlib.image as mpimg\n",
        "import numpy as np\n",
        "import scipy\n",
        "import itertools\n",
        "from datetime import datetime\n",
        "import tensorflow as tf\n",
        "import seaborn as sns\n",
        "import tempfile\n",
        "import tensorflow_model_optimization as tfmot\n",
        "from sklearn.metrics import classification_report,confusion_matrix\n",
        "from keras.callbacks import ReduceLROnPlateau\n",
        "from sklearn.preprocessing import StandardScaler"
      ]
    },
    {
      "cell_type": "code",
      "execution_count": 5,
      "metadata": {
        "colab": {
          "base_uri": "https://localhost:8080/"
        },
        "id": "2rVqNYLbY1-o",
        "outputId": "89f8bed4-4dc1-4981-a3e9-d21f18597495"
      },
      "outputs": [
        {
          "output_type": "stream",
          "name": "stdout",
          "text": [
            "Mounted at /content/drive\n"
          ]
        }
      ],
      "source": [
        "from google.colab import drive\n",
        "drive.mount('/content/drive')"
      ]
    },
    {
      "cell_type": "markdown",
      "metadata": {
        "id": "YRIQ09PdYqJ1"
      },
      "source": [
        "**Loading the ECG data from drive**"
      ]
    },
    {
      "cell_type": "code",
      "execution_count": 6,
      "metadata": {
        "id": "zKMo_rNtYqJ1"
      },
      "outputs": [],
      "source": [
        "train = pd.read_csv('/content/drive/MyDrive/Work/ECG-sudhanshu/mitbih_train.csv', header=None)\n",
        "test = pd.read_csv('/content/drive/MyDrive/Work/ECG-sudhanshu/mitbih_test.csv', header=None)\n",
        "X_train, y_train = train.iloc[:, :187], train[187]\n",
        "X_test, y_test = test.iloc[:, :187], test[187]"
      ]
    },
    {
      "cell_type": "code",
      "execution_count": 7,
      "metadata": {
        "colab": {
          "base_uri": "https://localhost:8080/"
        },
        "id": "pmluZB3yBSdZ",
        "outputId": "57c6dd23-c7c2-4af9-d256-c0e0cc7ecdfc"
      },
      "outputs": [
        {
          "output_type": "stream",
          "name": "stdout",
          "text": [
            "(87554, 187) (21892, 187)\n"
          ]
        }
      ],
      "source": [
        "## Printing the training and testing shape\n",
        "print(X_train.shape, X_test.shape)"
      ]
    },
    {
      "cell_type": "code",
      "execution_count": 8,
      "metadata": {
        "id": "kjHLwntQwiNW"
      },
      "outputs": [],
      "source": [
        "'''(*2-1) is used to normalize the dataset into the range (-1,1)'''\n",
        "\n",
        "no_classes =5\n",
        "\n",
        "# Parse numbers as floats\n",
        "input_train = X_train.astype('float32')*2-1\n",
        "input_test = X_test.astype('float32')*2-1\n",
        "\n",
        "\n",
        "# Convert target vectors to categorical targets\n",
        "target_train = tf.keras.utils.to_categorical(y_train, no_classes)\n",
        "target_test = tf.keras.utils.to_categorical(y_test, no_classes)"
      ]
    },
    {
      "cell_type": "markdown",
      "source": [
        "**Model configuration**"
      ],
      "metadata": {
        "id": "DhNVqqDxq0HG"
      }
    },
    {
      "cell_type": "code",
      "execution_count": 9,
      "metadata": {
        "id": "3r4843IMwXe_"
      },
      "outputs": [],
      "source": [
        "\n",
        "batch_size = 200\n",
        "n_epochs = 50\n",
        "n_classes = 5\n",
        "validation_split = 0.3\n",
        "verbosity = 1"
      ]
    },
    {
      "cell_type": "markdown",
      "source": [
        "**ECONet model baesd on 1D-CNN**"
      ],
      "metadata": {
        "id": "b5pak01MrAMh"
      }
    },
    {
      "cell_type": "code",
      "execution_count": 10,
      "metadata": {
        "id": "dtPg2UTidl-8",
        "collapsed": true
      },
      "outputs": [],
      "source": [
        "\n",
        "def ECONet(n_classes):\n",
        "    model = tf.keras.Sequential([\n",
        "        # Layer 1\n",
        "        tf.keras.layers.Conv1D(filters=128, kernel_size=80, strides=4, padding='same', input_shape=(187, 1)),\n",
        "        tf.keras.layers.ReLU(),\n",
        "        tf.keras.layers.MaxPooling1D(pool_size=3, strides=2, padding='same'),  # Adjusted kernel size and stride\n",
        "        # Layer 2\n",
        "        tf.keras.layers.Conv1D(filters=128, kernel_size=3, padding='same'),\n",
        "        tf.keras.layers.ReLU(),\n",
        "        tf.keras.layers.MaxPooling1D(pool_size=3, strides=2, padding='same'),  # Adjusted kernel size and stride\n",
        "        tf.keras.layers.Dropout(rate=0.2),\n",
        "        # Layer 3\n",
        "        tf.keras.layers.Conv1D(filters=64, kernel_size=3, padding='same'),\n",
        "        tf.keras.layers.ReLU(),\n",
        "        tf.keras.layers.MaxPooling1D(pool_size=3, strides=2, padding='same'),  # Adjusted kernel size and stride\n",
        "        # Layer 4\n",
        "        tf.keras.layers.Conv1D(filters=32, kernel_size=3, padding='same'),\n",
        "        tf.keras.layers.ReLU(),\n",
        "        tf.keras.layers.MaxPooling1D(pool_size=3, strides=2, padding='same'),  # Adjusted kernel size and stride\n",
        "        tf.keras.layers.Dropout(rate=0.3),\n",
        "        # Output layer\n",
        "        tf.keras.layers.GlobalAveragePooling1D(),  # AdaptiveAvgPool1d equivalent\n",
        "        tf.keras.layers.Flatten(),\n",
        "        tf.keras.layers.Dense(no_classes),\n",
        "        tf.keras.layers.Softmax(axis=1)\n",
        "    ])\n",
        "    return model\n",
        "\n",
        "\n"
      ]
    },
    {
      "cell_type": "code",
      "source": [
        "# Create an instance of the ECGNet model\n",
        "n_classes = 5  # Change this according to your problem\n",
        "model = ECONet(no_classes)\n",
        "\n",
        "# Display model summary\n",
        "model.summary()"
      ],
      "metadata": {
        "colab": {
          "base_uri": "https://localhost:8080/"
        },
        "id": "mPoLBVkWrmf1",
        "outputId": "5485d535-cd79-4c49-91da-7ff9f65fbc0e"
      },
      "execution_count": 11,
      "outputs": [
        {
          "output_type": "stream",
          "name": "stdout",
          "text": [
            "Model: \"sequential\"\n",
            "_________________________________________________________________\n",
            " Layer (type)                Output Shape              Param #   \n",
            "=================================================================\n",
            " conv1d (Conv1D)             (None, 47, 128)           10368     \n",
            "                                                                 \n",
            " re_lu (ReLU)                (None, 47, 128)           0         \n",
            "                                                                 \n",
            " max_pooling1d (MaxPooling1  (None, 24, 128)           0         \n",
            " D)                                                              \n",
            "                                                                 \n",
            " conv1d_1 (Conv1D)           (None, 24, 128)           49280     \n",
            "                                                                 \n",
            " re_lu_1 (ReLU)              (None, 24, 128)           0         \n",
            "                                                                 \n",
            " max_pooling1d_1 (MaxPoolin  (None, 12, 128)           0         \n",
            " g1D)                                                            \n",
            "                                                                 \n",
            " dropout (Dropout)           (None, 12, 128)           0         \n",
            "                                                                 \n",
            " conv1d_2 (Conv1D)           (None, 12, 64)            24640     \n",
            "                                                                 \n",
            " re_lu_2 (ReLU)              (None, 12, 64)            0         \n",
            "                                                                 \n",
            " max_pooling1d_2 (MaxPoolin  (None, 6, 64)             0         \n",
            " g1D)                                                            \n",
            "                                                                 \n",
            " conv1d_3 (Conv1D)           (None, 6, 32)             6176      \n",
            "                                                                 \n",
            " re_lu_3 (ReLU)              (None, 6, 32)             0         \n",
            "                                                                 \n",
            " max_pooling1d_3 (MaxPoolin  (None, 3, 32)             0         \n",
            " g1D)                                                            \n",
            "                                                                 \n",
            " dropout_1 (Dropout)         (None, 3, 32)             0         \n",
            "                                                                 \n",
            " global_average_pooling1d (  (None, 32)                0         \n",
            " GlobalAveragePooling1D)                                         \n",
            "                                                                 \n",
            " flatten (Flatten)           (None, 32)                0         \n",
            "                                                                 \n",
            " dense (Dense)               (None, 5)                 165       \n",
            "                                                                 \n",
            " softmax (Softmax)           (None, 5)                 0         \n",
            "                                                                 \n",
            "=================================================================\n",
            "Total params: 90629 (354.02 KB)\n",
            "Trainable params: 90629 (354.02 KB)\n",
            "Non-trainable params: 0 (0.00 Byte)\n",
            "_________________________________________________________________\n"
          ]
        }
      ]
    },
    {
      "cell_type": "code",
      "execution_count": 12,
      "metadata": {
        "id": "RifvjT-p0v1E"
      },
      "outputs": [],
      "source": [
        "learning_rate_reduction = ReduceLROnPlateau(monitor='val_accuracy', patience = 2, verbose=1,factor=0.5, min_lr=0.00001)"
      ]
    },
    {
      "cell_type": "code",
      "execution_count": 13,
      "metadata": {
        "id": "rw6tQFZrv-sl"
      },
      "outputs": [],
      "source": [
        "# Compile the model\n",
        "model.compile(loss=tf.keras.losses.categorical_crossentropy,\n",
        "              optimizer=tf.keras.optimizers.Adam(),\n",
        "              metrics=['accuracy'])"
      ]
    },
    {
      "cell_type": "code",
      "execution_count": 14,
      "metadata": {
        "colab": {
          "base_uri": "https://localhost:8080/"
        },
        "id": "RnJlj7lFwJLu",
        "outputId": "ee32709a-5d5d-44fe-9961-fc5bea1932ed",
        "collapsed": true
      },
      "outputs": [
        {
          "output_type": "stream",
          "name": "stdout",
          "text": [
            "Epoch 1/50\n",
            "438/438 [==============================] - 27s 10ms/step - loss: 0.3898 - accuracy: 0.8956 - val_loss: 0.1981 - val_accuracy: 0.9479 - lr: 0.0010\n",
            "Epoch 2/50\n",
            "438/438 [==============================] - 5s 11ms/step - loss: 0.1779 - accuracy: 0.9531 - val_loss: 0.1343 - val_accuracy: 0.9651 - lr: 0.0010\n",
            "Epoch 3/50\n",
            "438/438 [==============================] - 7s 15ms/step - loss: 0.1349 - accuracy: 0.9647 - val_loss: 0.1134 - val_accuracy: 0.9697 - lr: 0.0010\n",
            "Epoch 4/50\n",
            "438/438 [==============================] - 5s 12ms/step - loss: 0.1156 - accuracy: 0.9690 - val_loss: 0.0973 - val_accuracy: 0.9731 - lr: 0.0010\n",
            "Epoch 5/50\n",
            "438/438 [==============================] - 3s 7ms/step - loss: 0.1021 - accuracy: 0.9724 - val_loss: 0.0907 - val_accuracy: 0.9749 - lr: 0.0010\n",
            "Epoch 6/50\n",
            "438/438 [==============================] - 4s 10ms/step - loss: 0.0935 - accuracy: 0.9740 - val_loss: 0.1003 - val_accuracy: 0.9742 - lr: 0.0010\n",
            "Epoch 7/50\n",
            "438/438 [==============================] - 6s 14ms/step - loss: 0.0864 - accuracy: 0.9756 - val_loss: 0.0909 - val_accuracy: 0.9751 - lr: 0.0010\n",
            "Epoch 8/50\n",
            "438/438 [==============================] - 4s 8ms/step - loss: 0.0799 - accuracy: 0.9776 - val_loss: 0.0839 - val_accuracy: 0.9770 - lr: 0.0010\n",
            "Epoch 9/50\n",
            "438/438 [==============================] - 3s 6ms/step - loss: 0.0768 - accuracy: 0.9785 - val_loss: 0.0829 - val_accuracy: 0.9764 - lr: 0.0010\n",
            "Epoch 10/50\n",
            "438/438 [==============================] - 4s 8ms/step - loss: 0.0720 - accuracy: 0.9796 - val_loss: 0.0784 - val_accuracy: 0.9779 - lr: 0.0010\n",
            "Epoch 11/50\n",
            "438/438 [==============================] - 3s 7ms/step - loss: 0.0675 - accuracy: 0.9808 - val_loss: 0.0739 - val_accuracy: 0.9800 - lr: 0.0010\n",
            "Epoch 12/50\n",
            "438/438 [==============================] - 3s 6ms/step - loss: 0.0652 - accuracy: 0.9811 - val_loss: 0.0732 - val_accuracy: 0.9795 - lr: 0.0010\n",
            "Epoch 13/50\n",
            "434/438 [============================>.] - ETA: 0s - loss: 0.0620 - accuracy: 0.9822\n",
            "Epoch 13: ReduceLROnPlateau reducing learning rate to 0.0005000000237487257.\n",
            "438/438 [==============================] - 3s 6ms/step - loss: 0.0618 - accuracy: 0.9823 - val_loss: 0.0805 - val_accuracy: 0.9783 - lr: 0.0010\n",
            "Epoch 14/50\n",
            "438/438 [==============================] - 3s 7ms/step - loss: 0.0527 - accuracy: 0.9845 - val_loss: 0.0627 - val_accuracy: 0.9827 - lr: 5.0000e-04\n",
            "Epoch 15/50\n",
            "438/438 [==============================] - 4s 8ms/step - loss: 0.0504 - accuracy: 0.9851 - val_loss: 0.0647 - val_accuracy: 0.9823 - lr: 5.0000e-04\n",
            "Epoch 16/50\n",
            "434/438 [============================>.] - ETA: 0s - loss: 0.0484 - accuracy: 0.9855\n",
            "Epoch 16: ReduceLROnPlateau reducing learning rate to 0.0002500000118743628.\n",
            "438/438 [==============================] - 4s 8ms/step - loss: 0.0487 - accuracy: 0.9855 - val_loss: 0.0649 - val_accuracy: 0.9815 - lr: 5.0000e-04\n",
            "Epoch 17/50\n",
            "438/438 [==============================] - 5s 12ms/step - loss: 0.0430 - accuracy: 0.9868 - val_loss: 0.0609 - val_accuracy: 0.9836 - lr: 2.5000e-04\n",
            "Epoch 18/50\n",
            "438/438 [==============================] - 7s 15ms/step - loss: 0.0412 - accuracy: 0.9875 - val_loss: 0.0636 - val_accuracy: 0.9826 - lr: 2.5000e-04\n",
            "Epoch 19/50\n",
            "436/438 [============================>.] - ETA: 0s - loss: 0.0406 - accuracy: 0.9876\n",
            "Epoch 19: ReduceLROnPlateau reducing learning rate to 0.0001250000059371814.\n",
            "438/438 [==============================] - 3s 7ms/step - loss: 0.0406 - accuracy: 0.9876 - val_loss: 0.0615 - val_accuracy: 0.9837 - lr: 2.5000e-04\n",
            "Epoch 20/50\n",
            "438/438 [==============================] - 3s 6ms/step - loss: 0.0371 - accuracy: 0.9885 - val_loss: 0.0637 - val_accuracy: 0.9833 - lr: 1.2500e-04\n",
            "Epoch 21/50\n",
            "438/438 [==============================] - 3s 6ms/step - loss: 0.0364 - accuracy: 0.9886 - val_loss: 0.0608 - val_accuracy: 0.9840 - lr: 1.2500e-04\n",
            "Epoch 22/50\n",
            "438/438 [==============================] - 3s 8ms/step - loss: 0.0362 - accuracy: 0.9888 - val_loss: 0.0631 - val_accuracy: 0.9841 - lr: 1.2500e-04\n",
            "Epoch 23/50\n",
            "436/438 [============================>.] - ETA: 0s - loss: 0.0354 - accuracy: 0.9890\n",
            "Epoch 23: ReduceLROnPlateau reducing learning rate to 6.25000029685907e-05.\n",
            "438/438 [==============================] - 3s 8ms/step - loss: 0.0354 - accuracy: 0.9890 - val_loss: 0.0607 - val_accuracy: 0.9841 - lr: 1.2500e-04\n",
            "Epoch 24/50\n",
            "438/438 [==============================] - 3s 6ms/step - loss: 0.0338 - accuracy: 0.9891 - val_loss: 0.0611 - val_accuracy: 0.9840 - lr: 6.2500e-05\n",
            "Epoch 25/50\n",
            "438/438 [==============================] - 3s 6ms/step - loss: 0.0338 - accuracy: 0.9890 - val_loss: 0.0610 - val_accuracy: 0.9843 - lr: 6.2500e-05\n",
            "Epoch 26/50\n",
            "438/438 [==============================] - 3s 6ms/step - loss: 0.0332 - accuracy: 0.9894 - val_loss: 0.0589 - val_accuracy: 0.9844 - lr: 6.2500e-05\n",
            "Epoch 27/50\n",
            "438/438 [==============================] - 3s 8ms/step - loss: 0.0324 - accuracy: 0.9899 - val_loss: 0.0608 - val_accuracy: 0.9845 - lr: 6.2500e-05\n",
            "Epoch 28/50\n",
            "438/438 [==============================] - 3s 7ms/step - loss: 0.0328 - accuracy: 0.9899 - val_loss: 0.0598 - val_accuracy: 0.9846 - lr: 6.2500e-05\n",
            "Epoch 29/50\n",
            "432/438 [============================>.] - ETA: 0s - loss: 0.0323 - accuracy: 0.9895\n",
            "Epoch 29: ReduceLROnPlateau reducing learning rate to 3.125000148429535e-05.\n",
            "438/438 [==============================] - 3s 6ms/step - loss: 0.0323 - accuracy: 0.9894 - val_loss: 0.0605 - val_accuracy: 0.9845 - lr: 6.2500e-05\n",
            "Epoch 30/50\n",
            "438/438 [==============================] - 3s 6ms/step - loss: 0.0310 - accuracy: 0.9903 - val_loss: 0.0598 - val_accuracy: 0.9844 - lr: 3.1250e-05\n",
            "Epoch 31/50\n",
            "437/438 [============================>.] - ETA: 0s - loss: 0.0312 - accuracy: 0.9899\n",
            "Epoch 31: ReduceLROnPlateau reducing learning rate to 1.5625000742147677e-05.\n",
            "438/438 [==============================] - 3s 7ms/step - loss: 0.0313 - accuracy: 0.9899 - val_loss: 0.0607 - val_accuracy: 0.9845 - lr: 3.1250e-05\n",
            "Epoch 32/50\n",
            "438/438 [==============================] - 4s 8ms/step - loss: 0.0312 - accuracy: 0.9900 - val_loss: 0.0597 - val_accuracy: 0.9845 - lr: 1.5625e-05\n",
            "Epoch 33/50\n",
            "438/438 [==============================] - 3s 6ms/step - loss: 0.0308 - accuracy: 0.9899 - val_loss: 0.0596 - val_accuracy: 0.9847 - lr: 1.5625e-05\n",
            "Epoch 34/50\n",
            "438/438 [==============================] - 3s 6ms/step - loss: 0.0307 - accuracy: 0.9899 - val_loss: 0.0607 - val_accuracy: 0.9845 - lr: 1.5625e-05\n",
            "Epoch 35/50\n",
            "430/438 [============================>.] - ETA: 0s - loss: 0.0315 - accuracy: 0.9898\n",
            "Epoch 35: ReduceLROnPlateau reducing learning rate to 1e-05.\n",
            "438/438 [==============================] - 3s 6ms/step - loss: 0.0312 - accuracy: 0.9899 - val_loss: 0.0603 - val_accuracy: 0.9844 - lr: 1.5625e-05\n",
            "Epoch 36/50\n",
            "438/438 [==============================] - 4s 8ms/step - loss: 0.0302 - accuracy: 0.9904 - val_loss: 0.0600 - val_accuracy: 0.9847 - lr: 1.0000e-05\n",
            "Epoch 37/50\n",
            "438/438 [==============================] - 3s 7ms/step - loss: 0.0305 - accuracy: 0.9901 - val_loss: 0.0598 - val_accuracy: 0.9844 - lr: 1.0000e-05\n",
            "Epoch 38/50\n",
            "438/438 [==============================] - 3s 6ms/step - loss: 0.0300 - accuracy: 0.9902 - val_loss: 0.0598 - val_accuracy: 0.9846 - lr: 1.0000e-05\n",
            "Epoch 39/50\n",
            "438/438 [==============================] - 3s 6ms/step - loss: 0.0301 - accuracy: 0.9903 - val_loss: 0.0600 - val_accuracy: 0.9847 - lr: 1.0000e-05\n",
            "Epoch 40/50\n",
            "438/438 [==============================] - 3s 7ms/step - loss: 0.0301 - accuracy: 0.9905 - val_loss: 0.0598 - val_accuracy: 0.9847 - lr: 1.0000e-05\n",
            "Epoch 41/50\n",
            "438/438 [==============================] - 4s 8ms/step - loss: 0.0302 - accuracy: 0.9906 - val_loss: 0.0596 - val_accuracy: 0.9848 - lr: 1.0000e-05\n",
            "Epoch 42/50\n",
            "438/438 [==============================] - 3s 6ms/step - loss: 0.0296 - accuracy: 0.9904 - val_loss: 0.0602 - val_accuracy: 0.9845 - lr: 1.0000e-05\n",
            "Epoch 43/50\n",
            "438/438 [==============================] - 3s 6ms/step - loss: 0.0294 - accuracy: 0.9905 - val_loss: 0.0602 - val_accuracy: 0.9844 - lr: 1.0000e-05\n",
            "Epoch 44/50\n",
            "438/438 [==============================] - 3s 6ms/step - loss: 0.0296 - accuracy: 0.9903 - val_loss: 0.0603 - val_accuracy: 0.9846 - lr: 1.0000e-05\n",
            "Epoch 45/50\n",
            "438/438 [==============================] - 4s 9ms/step - loss: 0.0295 - accuracy: 0.9904 - val_loss: 0.0604 - val_accuracy: 0.9846 - lr: 1.0000e-05\n",
            "Epoch 46/50\n",
            "438/438 [==============================] - 5s 10ms/step - loss: 0.0298 - accuracy: 0.9906 - val_loss: 0.0598 - val_accuracy: 0.9848 - lr: 1.0000e-05\n",
            "Epoch 47/50\n",
            "438/438 [==============================] - 3s 6ms/step - loss: 0.0293 - accuracy: 0.9908 - val_loss: 0.0605 - val_accuracy: 0.9844 - lr: 1.0000e-05\n",
            "Epoch 48/50\n",
            "438/438 [==============================] - 3s 8ms/step - loss: 0.0297 - accuracy: 0.9906 - val_loss: 0.0601 - val_accuracy: 0.9845 - lr: 1.0000e-05\n",
            "Epoch 49/50\n",
            "438/438 [==============================] - 3s 7ms/step - loss: 0.0291 - accuracy: 0.9906 - val_loss: 0.0600 - val_accuracy: 0.9845 - lr: 1.0000e-05\n",
            "Epoch 50/50\n",
            "438/438 [==============================] - 4s 8ms/step - loss: 0.0290 - accuracy: 0.9907 - val_loss: 0.0601 - val_accuracy: 0.9847 - lr: 1.0000e-05\n"
          ]
        }
      ],
      "source": [
        "history=model.fit(input_train, target_train,\n",
        "          batch_size=batch_size,\n",
        "          epochs=n_epochs,\n",
        "          verbose=verbosity,\n",
        "          validation_data=(input_test, target_test),\n",
        "          callbacks = [learning_rate_reduction])\n"
      ]
    },
    {
      "cell_type": "code",
      "execution_count": 15,
      "metadata": {
        "id": "1UbOGZbn1piF",
        "colab": {
          "base_uri": "https://localhost:8080/"
        },
        "outputId": "94c3898a-da52-4055-d348-ad6bf0f54fe6"
      },
      "outputs": [
        {
          "output_type": "stream",
          "name": "stdout",
          "text": [
            "685/685 [==============================] - 3s 3ms/step - loss: 0.0601 - accuracy: 0.9847\n",
            "Accuracy of the model is -  98.46519231796265 %\n"
          ]
        }
      ],
      "source": [
        "print(\"Accuracy of the model is - \" , model.evaluate(input_test, target_test)[1]*100 , \"%\")"
      ]
    },
    {
      "cell_type": "code",
      "execution_count": 16,
      "metadata": {
        "id": "1OjfY_u912D0",
        "colab": {
          "base_uri": "https://localhost:8080/",
          "height": 588
        },
        "outputId": "516ef3e1-5326-464d-e3e3-ed32c6ac627e"
      },
      "outputs": [
        {
          "output_type": "display_data",
          "data": {
            "text/plain": [
              "<Figure size 1200x600 with 2 Axes>"
            ],
            "image/png": "[encoded data removed]"
          },
          "metadata": {}
        }
      ],
      "source": [
        "from matplotlib import rcParams\n",
        "rcParams['font.weight'] = 'bold'\n",
        "rcParams.update({'font.size': 14})\n",
        "\n",
        "epochs = [i for i in range(50)]\n",
        "fig , ax = plt.subplots(1,2)\n",
        "train_acc = history.history['accuracy']\n",
        "train_loss = history.history['loss']\n",
        "val_acc = history.history['val_accuracy']\n",
        "val_loss = history.history['val_loss']\n",
        "fig.set_size_inches(12,6)\n",
        "\n",
        "ax[0].plot(epochs , train_acc , 'go-' , label = 'Training Accuracy')\n",
        "ax[0].plot(epochs , val_acc , 'ro-' , label = 'Validation Accuracy')\n",
        "ax[0].set_title('(a)', weight='bold', y=-0.2)\n",
        "ax[0].legend()\n",
        "ax[0].set_xlabel(\"Epochs\", weight='bold')\n",
        "ax[0].set_ylabel(\"Accuracy\", weight='bold')\n",
        "\n",
        "\n",
        "ax[1].plot(epochs , train_loss , 'g-o' , label = 'Training Loss')\n",
        "ax[1].plot(epochs , val_loss , 'r-o' , label = 'Validation Loss')\n",
        "ax[1].set_title('(b)',weight='bold', y=-0.2)\n",
        "ax[1].legend()\n",
        "ax[1].set_xlabel(\"Epochs\", weight='bold')\n",
        "ax[1].set_ylabel(\"Loss\", weight='bold')\n",
        "plt.savefig('Train_val.pdf', bbox_inches='tight')\n",
        "plt.show()"
      ]
    },
    {
      "cell_type": "code",
      "execution_count": 17,
      "metadata": {
        "id": "vlv6fD_42VZx",
        "colab": {
          "base_uri": "https://localhost:8080/"
        },
        "outputId": "b0ed1025-c669-45d1-d36e-23151a58a769"
      },
      "outputs": [
        {
          "output_type": "stream",
          "name": "stdout",
          "text": [
            "685/685 [==============================] - 2s 2ms/step\n"
          ]
        }
      ],
      "source": [
        "preds = model.predict(input_test)\n",
        "predictions = np.argmax(preds, axis=1)"
      ]
    },
    {
      "cell_type": "code",
      "execution_count": 18,
      "metadata": {
        "id": "v4Ek9gxC2d4W",
        "colab": {
          "base_uri": "https://localhost:8080/"
        },
        "outputId": "9782c376-25ad-4436-81b3-59f0fcaba4bc"
      },
      "outputs": [
        {
          "output_type": "stream",
          "name": "stdout",
          "text": [
            "              precision    recall  f1-score   support\n",
            "\n",
            "     Class 0       0.99      1.00      0.99     18118\n",
            "     Class 1       0.91      0.76      0.83       556\n",
            "     Class 2       0.96      0.96      0.96      1448\n",
            "     Class 3       0.83      0.71      0.76       162\n",
            "     Class 4       1.00      0.98      0.99      1608\n",
            "\n",
            "    accuracy                           0.98     21892\n",
            "   macro avg       0.94      0.88      0.91     21892\n",
            "weighted avg       0.98      0.98      0.98     21892\n",
            "\n"
          ]
        }
      ],
      "source": [
        "classes = [\"Class \" + str(i) for i in range(5) ]\n",
        "print(classification_report(y_test, predictions, target_names = classes))"
      ]
    },
    {
      "cell_type": "code",
      "execution_count": 19,
      "metadata": {
        "id": "pib1ZZ_o3HEK"
      },
      "outputs": [],
      "source": [
        "cm = confusion_matrix(y_test, predictions)"
      ]
    },
    {
      "cell_type": "code",
      "execution_count": 20,
      "metadata": {
        "id": "oHckb_7q3MyB"
      },
      "outputs": [],
      "source": [
        "cm = pd.DataFrame(cm , index = [i for i in range(5)] , columns = [i for i in range(5)])"
      ]
    },
    {
      "cell_type": "code",
      "execution_count": 21,
      "metadata": {
        "id": "-QfEsn7N3Wl5",
        "colab": {
          "base_uri": "https://localhost:8080/",
          "height": 450
        },
        "outputId": "7e68447c-3e4f-4242-d9bf-59c71085a934"
      },
      "outputs": [
        {
          "output_type": "display_data",
          "data": {
            "text/plain": [
              "<Figure size 700x500 with 2 Axes>"
            ],
            "image/png": "[encoded data removed]"
          },
          "metadata": {}
        }
      ],
      "source": [
        "plt.figure(figsize = (7,5))\n",
        "sns.heatmap(cm,cmap= \"Blues\", linecolor = 'black' , linewidth = 1 , annot = True, fmt='')\n",
        "plt.savefig('Conf_mat.pdf', bbox_inches='tight')"
      ]
    },
    {
      "cell_type": "code",
      "execution_count": 22,
      "metadata": {
        "id": "xd80qAeN3r07",
        "colab": {
          "base_uri": "https://localhost:8080/"
        },
        "outputId": "ed8eab3a-de4c-41fe-9f40-c70e4304e9b7"
      },
      "outputs": [
        {
          "output_type": "stream",
          "name": "stdout",
          "text": [
            "Regular CNN - Test loss: 0.06005548685789108 / Test accuracy: 0.9846519231796265\n",
            "Baseline model saved: /tmp/tmppnhq1109.h5\n"
          ]
        },
        {
          "output_type": "stream",
          "name": "stderr",
          "text": [
            "<ipython-input-22-d6a54ff39dda>:8: UserWarning: You are saving your model as an HDF5 file via `model.save()`. This file format is considered legacy. We recommend using instead the native Keras format, e.g. `model.save('my_model.keras')`.\n",
            "  save_model(model, keras_file, include_optimizer=False)\n"
          ]
        }
      ],
      "source": [
        "from tensorflow.keras.models import save_model\n",
        "# Generate generalization metrics\n",
        "score = model.evaluate(input_test, target_test, verbose=0)\n",
        "print(f'Regular CNN - Test loss: {score[0]} / Test accuracy: {score[1]}')\n",
        "\n",
        "# Store file\n",
        "_, keras_file = tempfile.mkstemp('.h5')\n",
        "save_model(model, keras_file, include_optimizer=False)\n",
        "print(f'Baseline model saved: {keras_file}')"
      ]
    },
    {
      "cell_type": "code",
      "execution_count": 23,
      "metadata": {
        "id": "9tlIgbZQhxjr",
        "colab": {
          "base_uri": "https://localhost:8080/"
        },
        "outputId": "004c8996-c162-41f9-847d-b3f99159bfb5"
      },
      "outputs": [
        {
          "output_type": "stream",
          "name": "stdout",
          "text": [
            "Saved model size: 392.640625 kB\n",
            "Saved model size: 392.640625 kB\n"
          ]
        },
        {
          "output_type": "stream",
          "name": "stderr",
          "text": [
            "/usr/local/lib/python3.10/dist-packages/tf_keras/src/engine/training.py:3098: UserWarning: You are saving your model as an HDF5 file via `model.save()`. This file format is considered legacy. We recommend using instead the native TF-Keras format, e.g. `model.save('my_model.keras')`.\n",
            "  saving_api.save_model(\n"
          ]
        }
      ],
      "source": [
        "model.save('ECG.h5',include_optimizer=False)\n",
        "\n",
        "import os\n",
        "# Get the size of the saved model file\n",
        "saved_model_size = os.path.getsize('ECG.h5')\n",
        "tempt_saved_model_size = os.path.getsize(keras_file)\n",
        "\n",
        "# Print the size\n",
        "print(\"Saved model size:\", saved_model_size/1024, \"kB\")\n",
        "print(\"Saved model size:\",tempt_saved_model_size /1024, \"kB\")"
      ]
    },
    {
      "cell_type": "code",
      "execution_count": 24,
      "metadata": {
        "id": "K7moqj-y65IM"
      },
      "outputs": [],
      "source": [
        "# Load functionality for adding pruning wrappers\n",
        "prune_low_magnitude = tfmot.sparsity.keras.prune_low_magnitude\n",
        "\n",
        "# Finish pruning after 5 epochs\n",
        "pruning_epochs = 5\n",
        "num_images = input_train.shape[0] * (1 - validation_split)\n",
        "end_step = np.ceil(num_images / batch_size).astype(np.int32) * pruning_epochs"
      ]
    },
    {
      "cell_type": "code",
      "execution_count": 25,
      "metadata": {
        "id": "idICd1RD65Ki"
      },
      "outputs": [],
      "source": [
        "# Define pruning configuration\n",
        "pruning_params = {\n",
        "      'pruning_schedule': tfmot.sparsity.keras.PolynomialDecay(initial_sparsity=0.40,\n",
        "                                                               final_sparsity=0.70,\n",
        "                                                               begin_step=0,\n",
        "                                                               end_step=end_step)\n",
        "}\n",
        "model_for_pruning = prune_low_magnitude(model, **pruning_params)"
      ]
    },
    {
      "cell_type": "code",
      "execution_count": 26,
      "metadata": {
        "id": "34M6d68n7rAb"
      },
      "outputs": [],
      "source": [
        "# Recompile the model\n",
        "model_for_pruning.compile(loss=tf.keras.losses.categorical_crossentropy,\n",
        "              optimizer=\"adam\",\n",
        "              metrics=['accuracy'])\n",
        "\n",
        "# Model callbacks\n",
        "callbacks = [\n",
        "  tfmot.sparsity.keras.UpdatePruningStep()\n",
        "]\n"
      ]
    },
    {
      "cell_type": "code",
      "execution_count": 27,
      "metadata": {
        "id": "L6L__fjH7rDA",
        "colab": {
          "base_uri": "https://localhost:8080/"
        },
        "outputId": "80ff7a79-2f5e-46a0-bd9a-1f0ed9fb7d00"
      },
      "outputs": [
        {
          "output_type": "stream",
          "name": "stdout",
          "text": [
            "Epoch 1/5\n",
            "438/438 [==============================] - 23s 27ms/step - loss: 0.0551 - accuracy: 0.9832 - val_loss: 0.0652 - val_accuracy: 0.9826\n",
            "Epoch 2/5\n",
            "438/438 [==============================] - 5s 11ms/step - loss: 0.0558 - accuracy: 0.9836 - val_loss: 0.0614 - val_accuracy: 0.9814\n",
            "Epoch 3/5\n",
            "438/438 [==============================] - 7s 15ms/step - loss: 0.0545 - accuracy: 0.9838 - val_loss: 0.0623 - val_accuracy: 0.9830\n",
            "Epoch 4/5\n",
            "438/438 [==============================] - 5s 11ms/step - loss: 0.0482 - accuracy: 0.9855 - val_loss: 0.0628 - val_accuracy: 0.9835\n",
            "Epoch 5/5\n",
            "438/438 [==============================] - 6s 14ms/step - loss: 0.0464 - accuracy: 0.9862 - val_loss: 0.0607 - val_accuracy: 0.9840\n"
          ]
        },
        {
          "output_type": "execute_result",
          "data": {
            "text/plain": [
              "<tf_keras.src.callbacks.History at 0x7e87f81115d0>"
            ]
          },
          "metadata": {},
          "execution_count": 27
        }
      ],
      "source": [
        "# Fitting data\n",
        "model_for_pruning.fit(input_train, target_train,\n",
        "                      batch_size=batch_size,\n",
        "                      epochs=pruning_epochs,\n",
        "                      verbose=verbosity,\n",
        "                      callbacks=callbacks,\n",
        "                      validation_data=(input_test, target_test))"
      ]
    },
    {
      "cell_type": "code",
      "execution_count": 28,
      "metadata": {
        "id": "r4whGSSp7rFV",
        "colab": {
          "base_uri": "https://localhost:8080/"
        },
        "outputId": "7e24c225-e00a-4d82-fee3-277e6783c144"
      },
      "outputs": [
        {
          "output_type": "stream",
          "name": "stdout",
          "text": [
            "Pruned CNN - Test loss: 0.06066664308309555 / Test accuracy: 0.9840124249458313\n",
            "Regular CNN - Test loss: 0.06005548685789108 / Test accuracy: 0.9846519231796265\n"
          ]
        }
      ],
      "source": [
        "# Generate generalization metrics\n",
        "score_pruned = model_for_pruning.evaluate(input_test, target_test, verbose=0)\n",
        "print(f'Pruned CNN - Test loss: {score_pruned[0]} / Test accuracy: {score_pruned[1]}')\n",
        "print(f'Regular CNN - Test loss: {score[0]} / Test accuracy: {score[1]}')"
      ]
    },
    {
      "cell_type": "code",
      "execution_count": 29,
      "metadata": {
        "id": "AHqv2Bvw8Jel",
        "colab": {
          "base_uri": "https://localhost:8080/"
        },
        "outputId": "7096a76f-67ae-42b9-be6c-7a3072b57572"
      },
      "outputs": [
        {
          "output_type": "stream",
          "name": "stderr",
          "text": [
            "<ipython-input-29-b409ea252941>:4: UserWarning: You are saving your model as an HDF5 file via `model.save()`. This file format is considered legacy. We recommend using instead the native Keras format, e.g. `model.save('my_model.keras')`.\n",
            "  save_model(model_for_export, pruned_keras_file, include_optimizer=False)\n",
            "WARNING:tensorflow:Compiled the loaded model, but the compiled metrics have yet to be built. `model.compile_metrics` will be empty until you train or evaluate the model.\n"
          ]
        },
        {
          "output_type": "stream",
          "name": "stdout",
          "text": [
            "Pruned model saved: /tmp/tmpdjm4a_q7.h5\n"
          ]
        }
      ],
      "source": [
        "# Export the model\n",
        "model_for_export = tfmot.sparsity.keras.strip_pruning(model_for_pruning)\n",
        "_, pruned_keras_file = tempfile.mkstemp('.h5')\n",
        "save_model(model_for_export, pruned_keras_file, include_optimizer=False)\n",
        "print(f'Pruned model saved: {pruned_keras_file}')"
      ]
    },
    {
      "cell_type": "code",
      "execution_count": 30,
      "metadata": {
        "id": "h2S_ueJ4NdnC"
      },
      "outputs": [],
      "source": [
        "def representative_datasets():\n",
        "    xtest_rd = X_train.values*255\n",
        "    for i in range(200):\n",
        "        nxt = (xtest_rd[i])\n",
        "        nxt = nxt.reshape(1,187,1)\n",
        "        nxt = np.array(nxt)\n",
        "        nxt = ((nxt/127.5)-1.0).astype(np.float32)\n",
        "        yield([nxt])"
      ]
    },
    {
      "cell_type": "code",
      "source": [
        "'''Pre-Quantization'''\n",
        "#tripped_model = tfmot.sparsity.keras.strip_pruning(model_for_pruning)\n",
        "\n",
        "#q_aware_model = tfmot.quantization.keras.quantize_annotate_model(model_for_pruning)\n",
        "\n",
        "#quantize_model = tfmot.quantization.keras.quantize_model\n",
        "#q_aware_model = quantize_model(tripped_model)\n",
        "#q_aware_model.compile(optimizer='adam', loss=tf.keras.losses.categorical_crossentropy, metrics=['accuracy'])\n",
        "#q_aware_model.fit(input_train, target_train, batch_size=200, epochs=10, validation_data=(input_test, target_test))"
      ],
      "metadata": {
        "id": "SXQxwwILvRhv",
        "colab": {
          "base_uri": "https://localhost:8080/",
          "height": 36
        },
        "outputId": "dc642765-7f70-4bfc-f340-aa2e0ea1bd1c"
      },
      "execution_count": 32,
      "outputs": [
        {
          "output_type": "execute_result",
          "data": {
            "text/plain": [
              "'Pre-Quantization'"
            ],
            "application/vnd.google.colaboratory.intrinsic+json": {
              "type": "string"
            }
          },
          "metadata": {},
          "execution_count": 32
        }
      ]
    },
    {
      "cell_type": "markdown",
      "source": [
        "****Signed 8-bit Quantization****"
      ],
      "metadata": {
        "id": "QFTQv1ZjwZrP"
      }
    },
    {
      "cell_type": "code",
      "execution_count": 33,
      "metadata": {
        "id": "3hHWgibqbk4C",
        "colab": {
          "base_uri": "https://localhost:8080/"
        },
        "outputId": "d3722067-6a05-494c-87d5-8bfae9c0f4a6"
      },
      "outputs": [
        {
          "output_type": "stream",
          "name": "stderr",
          "text": [
            "/usr/local/lib/python3.10/dist-packages/tensorflow/lite/python/convert.py:953: UserWarning: Statistics for quantized inputs were expected, but not specified; continuing anyway.\n",
            "  warnings.warn(\n"
          ]
        },
        {
          "output_type": "execute_result",
          "data": {
            "text/plain": [
              "110232"
            ]
          },
          "metadata": {},
          "execution_count": 33
        }
      ],
      "source": [
        "stripped_model = tfmot.sparsity.keras.strip_pruning(model_for_pruning)\n",
        "converter = tf.lite.TFLiteConverter.from_keras_model(stripped_model)\n",
        "\n",
        "# Pass representative dataset to the converter\n",
        "converter.representative_dataset = representative_datasets\n",
        "\n",
        "# Set the optimization mode\n",
        "converter.optimizations = [tf.lite.Optimize.DEFAULT]\n",
        "# Restricting supported target op specification to INT8\n",
        "converter.target_spec.supported_ops = [tf.lite.OpsSet.TFLITE_BUILTINS_INT8]\n",
        "\n",
        "# Set the input and output tensors to uint8\n",
        "converter.inference_input_type = tf.int8\n",
        "converter.inference_output_type = tf.int8\n",
        "\n",
        "# Convert and Save the model\n",
        "tflite_model = converter.convert()\n",
        "open(\"EEG.tflite\", \"wb\").write(tflite_model)\n"
      ]
    },
    {
      "cell_type": "markdown",
      "source": [
        "**Converting the Tflite model to C compatible array**"
      ],
      "metadata": {
        "id": "CZN491lUsyiS"
      }
    },
    {
      "cell_type": "code",
      "execution_count": 34,
      "metadata": {
        "collapsed": true,
        "id": "bdJH8tDws98H"
      },
      "outputs": [],
      "source": [
        "!xxd -i EEG.tflite > EEG.cc\n",
        "#!cat EEG.cc"
      ]
    },
    {
      "cell_type": "code",
      "execution_count": 35,
      "metadata": {
        "id": "Fo6B5eXJ8M5C",
        "colab": {
          "base_uri": "https://localhost:8080/"
        },
        "outputId": "2756b2da-38dd-4989-f4c1-73c15d045b7b"
      },
      "outputs": [
        {
          "output_type": "stream",
          "name": "stdout",
          "text": [
            "[  1 187   1]\n",
            "[1 5]\n"
          ]
        }
      ],
      "source": [
        "tflite_model_path = \"EEG.tflite\"\n",
        "\n",
        "# Load the TFLite model and allocate tensors.\n",
        "interpreter = tf.lite.Interpreter(model_path=tflite_model_path)\n",
        "\n",
        "interpreter.allocate_tensors()\n",
        "\n",
        "# Get input and output tensors.\n",
        "input_details = interpreter.get_input_details()\n",
        "output_details = interpreter.get_output_details()\n",
        "\n",
        "input_shape = input_details[0]['shape']\n",
        "output_shape = output_details[0]['shape']\n",
        "print(input_shape)\n",
        "print(output_shape)"
      ]
    },
    {
      "cell_type": "code",
      "execution_count": 36,
      "metadata": {
        "id": "Gm2qwKRrqvzg"
      },
      "outputs": [],
      "source": [
        "nin = 600\n",
        "nstrt = 20000"
      ]
    },
    {
      "cell_type": "code",
      "execution_count": 37,
      "metadata": {
        "id": "O09ds0EOqs4a",
        "colab": {
          "base_uri": "https://localhost:8080/"
        },
        "outputId": "a367973b-fbe9-4972-f592-14815ffd937d"
      },
      "outputs": [
        {
          "output_type": "stream",
          "name": "stdout",
          "text": [
            "Input Shape: [600 187   1]\n",
            "Input Type: <class 'numpy.int8'>\n",
            "Output Shape: [600   5]\n",
            "Output Type: <class 'numpy.int8'>\n"
          ]
        }
      ],
      "source": [
        "interpreter.resize_tensor_input(input_details[0]['index'], (nin, 187,1))\n",
        "interpreter.resize_tensor_input(output_details[0]['index'], (nin, 5))\n",
        "interpreter.allocate_tensors()\n",
        "input_details = interpreter.get_input_details()\n",
        "output_details = interpreter.get_output_details()\n",
        "print(\"Input Shape:\", input_details[0]['shape'])\n",
        "print(\"Input Type:\", input_details[0]['dtype'])\n",
        "print(\"Output Shape:\", output_details[0]['shape'])\n",
        "print(\"Output Type:\", output_details[0]['dtype'])"
      ]
    },
    {
      "cell_type": "markdown",
      "source": [
        "**Testing the converted model on few testing samples**"
      ],
      "metadata": {
        "id": "e9Lk2mg-wHI9"
      }
    },
    {
      "cell_type": "code",
      "source": [
        "input_check = input_test[nstrt:(nstrt+nin)]\n",
        "target_check = target_test[nstrt:(nstrt+nin),:]"
      ],
      "metadata": {
        "id": "JphIFPamv0Tm"
      },
      "execution_count": 40,
      "outputs": []
    },
    {
      "cell_type": "code",
      "execution_count": 41,
      "metadata": {
        "id": "kZL79Dqyq-ma",
        "colab": {
          "base_uri": "https://localhost:8080/"
        },
        "outputId": "dc7d5c94-3b7a-4ea3-9b75-455dd172bc59"
      },
      "outputs": [
        {
          "output_type": "stream",
          "name": "stdout",
          "text": [
            "0.00021510521570841472\n",
            "Prediction results shape: (600, 5)\n"
          ]
        }
      ],
      "source": [
        "\n",
        "test_imgs_numpy = np.array(input_check*127.5, dtype=np.int8)\n",
        "test_sig = test_imgs_numpy.reshape(nin,187,1)\n",
        "\n",
        "from time import time\n",
        "t1 = time()\n",
        "interpreter.set_tensor(input_details[0]['index'], test_sig)\n",
        "interpreter.invoke()\n",
        "tflite_model_predictions = interpreter.get_tensor(output_details[0]['index'])\n",
        "print((time()-t1)/nin)\n",
        "print(\"Prediction results shape:\", tflite_model_predictions.shape)\n",
        "prediction_classes = np.argmax(tflite_model_predictions, axis=1)"
      ]
    },
    {
      "cell_type": "code",
      "execution_count": 42,
      "metadata": {
        "id": "NpWC5hG_slr9",
        "colab": {
          "base_uri": "https://localhost:8080/"
        },
        "outputId": "44233672-23b6-45f8-f5db-fd02bb9cf042"
      },
      "outputs": [
        {
          "output_type": "stream",
          "name": "stdout",
          "text": [
            "Test accuracy TFLITE model : 0.9083333333333333\n"
          ]
        }
      ],
      "source": [
        "from sklearn.metrics import accuracy_score\n",
        "acc = accuracy_score(prediction_classes, np.argmax(target_test[nstrt:(nstrt+nin),:],axis=1))\n",
        "\n",
        "print('Test accuracy TFLITE model :', acc)"
      ]
    }
  ],
  "metadata": {
    "accelerator": "GPU",
    "colab": {
      "gpuType": "T4",
      "provenance": []
    },
    "kaggle": {
      "accelerator": "gpu",
      "dataSources": [
        {
          "datasetId": 29414,
          "sourceId": 37484,
          "sourceType": "datasetVersion"
        },
        {
          "datasetId": 3504103,
          "sourceId": 6114424,
          "sourceType": "datasetVersion"
        }
      ],
      "dockerImageVersionId": 30665,
      "isGpuEnabled": true,
      "isInternetEnabled": true,
      "language": "python",
      "sourceType": "notebook"
    },
    "kernelspec": {
      "display_name": "Python 3",
      "name": "python3"
    },
    "language_info": {
      "codemirror_mode": {
        "name": "ipython",
        "version": 3
      },
      "file_extension": ".py",
      "mimetype": "text/x-python",
      "name": "python",
      "nbconvert_exporter": "python",
      "pygments_lexer": "ipython3",
      "version": "3.10.13"
    }
  },
  "nbformat": 4,
  "nbformat_minor": 0
}